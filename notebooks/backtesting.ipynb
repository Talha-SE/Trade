{
 "cells": [
  {
   "cell_type": "markdown",
   "metadata": {},
   "source": [
    "# Backtesting Trading Strategy\n",
    "\n",
    "This notebook is used for backtesting the trading strategy based on the generated signals from the AI-powered Bitcoin trade signal generation system."
   ]
  },
  {
   "cell_type": "code",
   "execution_count": null,
   "metadata": {
    "id": "backtest-setup"
   },
   "outputs": [],
   "source": [
    "# Import necessary libraries\n",
    "import pandas as pd\n",
    "import numpy as np\n",
    "import matplotlib.pyplot as plt\n",
    "from src.inference.signal_generator import SignalGenerator\n",
    "from src.data.collector import collect_historical_data\n",
    "\n",
    "# Load historical data\n",
    "data = collect_historical_data('BTC/USDT', '1m', '2021-01-01', '2023-01-01')\n",
    "\n",
    "# Initialize the signal generator\n",
    "signal_generator = SignalGenerator()\n",
    "\n",
    "# Generate signals\n",
    "signals = signal_generator.generate_signals(data)\n",
    "\n",
    "# Backtesting function\n",
    "def backtest_strategy(data, signals):\n",
    "    initial_balance = 1000  # Starting with $1000\n",
    "    balance = initial_balance\n",
    "    position = 0  # Current position in BTC\n",
    "    trade_history = []\n",
    "\n",
    "    for i in range(len(data)):\n",
    "        if signals[i] == 1:  # Buy signal\n",
    "            position = balance / data['close'][i]\n",
    "            balance = 0\n",
    "            trade_history.append(('BUY', data['date'][i], data['close'][i]))\n",
    "        elif signals[i] == -1 and position > 0:  # Sell signal\n",
    "            balance = position * data['close'][i]\n",
    "            position = 0\n",
    "            trade_history.append(('SELL', data['date'][i], data['close'][i]))\n",
    "\n",
    "    final_balance = balance + (position * data['close'].iloc[-1])\n",
    "    return final_balance, trade_history\n",
    "\n",
    "# Run backtest\n",
    "final_balance, trade_history = backtest_strategy(data, signals)\n",
    "\n",
    "# Results\n",
    "print(f'Initial Balance: $1000')\n",
    "print(f'Final Balance: ${final_balance:.2f}')\n",
    "print('Trade History:')\n",
    "for trade in trade_history:\n",
    "    print(trade)\n",
    "\n",
    "# Plotting results\n",
    "plt.figure(figsize=(14, 7))\n",
    "plt.plot(data['date'], data['close'], label='BTC Price')\n",
    "plt.title('BTC Price and Trades')\n",
    "plt.xlabel('Date')\n",
    "plt.ylabel('Price (USDT)')\n",
    "plt.legend()\n",
    "plt.show()"
   ]
  }
 ],
 "metadata": {
  "kernelspec": {
   "display_name": "Python 3",
   "language": "python",
   "name": "python3"
  },
  "language_info": {
   "codemirror_mode": {
    "name": "ipython",
    "version": 3
   },
   "file_extension": ".py",
   "mimetype": "text/x-python",
   "name": "python",
   "nbconvert_exporter": "python",
   "pygments_lexer": "ipython3",
   "version": "3.8.5"
  }
 },
 "nbformat": 4,
 "nbformat_minor": 4
}